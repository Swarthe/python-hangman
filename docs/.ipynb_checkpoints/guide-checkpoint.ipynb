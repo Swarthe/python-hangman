{
 "cells": [
  {
   "cell_type": "markdown",
   "metadata": {},
   "source": [
    "<h2><font color='orange'><b>Le jeu du pendu</font></b></h2>\n",
    "<hr color='orange'>\n",
    "<h3><font color='orange'><b>Principe</font></b></h3>\n",
    "\n",
    "<p>Le jeu du pendu consiste à choisir un mot et à le faire deviner à son adversaire en un nombre limité de propositions de lettres.\n",
    "\n",
    "Dans le jeu que vous allez programmer, vous devrez entrer dans le code une liste de mots (comportant chacun entre 6 et 12 lettres. Le mot que vous voulez faire deviner sera choisi au hasard dans cette liste. On demande ensuite à l’utilisateur de choisir une lettre, en affichant après chaque proposition l’état du pendu et les lettres du mot déjà devinées (en utilisant des tirets pour les lettres inconnues).\n",
    "\n",
    "<b>Exemple</b> : si le mot à deviner est TOMATE, l’interaction peut être :\n",
    "\n",
    "    Lettre ? L\n",
    "    ------  / essais restants :  9\n",
    "    Lettre ? E\n",
    "    -----E  / essais restants :  8\n",
    "    Lettre ? T\n",
    "    T---TE  / essais restants :  7\n",
    "    Lettre ? B\n",
    "    T---TE  / essais restants :  6\n",
    "    Lettre ? O\n",
    "    TO--TE  / essais restants :  5\n",
    "    Lettre ? M\n",
    "    TOM-TE  / essais restants :  4\n",
    "    Lettre ? A\n",
    "    TOMATE  / essais restants :  3\n",
    "    Bravo !\n",
    "\n",
    "<b>Etapes possibles et conseils :</b>\n",
    "\n",
    "Ecrire le code de la fonction <code>evalue</code> qui prend en entrée trois paramètres de type string et renvoie un paramètre de type list. Cette fonction évalue la proposition de l’utilisateur en la comparant au mot à trouver. Ainsi, <code>evalue('T','TOMATE','------')</code> renvoie la liste <code>['T','-','-','-','T','-']</code>\n",
    "\n",
    "<b>Attention :</b> une chaîne de caractères n'est pas modifiable, une liste, si.\n",
    "Tester le code <code>list(\"SALADE\")</code>. Cette fonction vous sera très utile.\n",
    "\n",
    "Pour afficher le mot avec les lettres trouvées, on pourra coder une fonction <code>convertit</code>, qui prend en entrée une liste et la transforme en chaîne de caractères.\n",
    "\n",
    "<b>Exemple :</b> <code>convertit(['B','A','N','C'])</code> affichera <code>'BANC'</code>\n",
    "\n",
    "\n",
    "Tout le code va utiliser une liste que les réponses de l'utilisateur vont transformer.\n",
    "Au début, cette liste ne contient que des tirets.\n",
    "\n",
    "Le programme s'arrête avec un message de félicitations quand le mot est trouvé avant 10 essais, et le message \"Pendu !\" sinon.\n",
    "\n",
    "Amusez-vous bien !"
   ]
  },
  {
   "cell_type": "code",
   "execution_count": null,
   "metadata": {},
   "outputs": [],
   "source": []
  }
 ],
 "metadata": {
  "kernelspec": {
   "display_name": "Python 3 (ipykernel)",
   "language": "python",
   "name": "python3"
  },
  "language_info": {
   "codemirror_mode": {
    "name": "ipython",
    "version": 3
   },
   "file_extension": ".py",
   "mimetype": "text/x-python",
   "name": "python",
   "nbconvert_exporter": "python",
   "pygments_lexer": "ipython3",
   "version": "3.9.7"
  }
 },
 "nbformat": 4,
 "nbformat_minor": 2
}
